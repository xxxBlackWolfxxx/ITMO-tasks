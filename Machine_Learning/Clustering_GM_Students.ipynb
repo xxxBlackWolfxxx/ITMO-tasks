{
 "cells": [
  {
   "cell_type": "markdown",
   "metadata": {
    "id": "aqMY86T_7hsP",
    "pycharm": {
     "name": "#%% md\n"
    }
   },
   "source": [
    "# Generative model based on Gaussian mixtures"
   ]
  },
  {
   "cell_type": "markdown",
   "metadata": {
    "id": "mRtfBj7s7hsP",
    "pycharm": {
     "name": "#%% md\n"
    }
   },
   "source": [
    "Gaussian mixtures are a natural mathematical generalization of the K-means algorithm. Essentially, the approach looks for some mixture of multivariate normal distributions (essentially also clumps around the mean with their variance) rather than just some clumps around the forming centroids. Since this approach estimates probability densities, it is often used in KDE (kernel density estimation) tasks. Among other things, it can be applied to the generation task: if there is a probability density function, we can sample and get new objects. In this task, we will look at the simplest example of solving such a problem."
   ]
  },
  {
   "cell_type": "markdown",
   "metadata": {
    "id": "MY-avo2u7hsP",
    "pycharm": {
     "name": "#%% md\n"
    }
   },
   "source": [
    "Again, we'll be working with `MNIST`. Since the model turns out to be extremely heavy, we will use a \"simple\" dataset. Let's visualize the elements of this dataset (for clarity)."
   ]
  },
  {
   "cell_type": "code",
   "execution_count": 1,
   "metadata": {
    "colab": {
     "base_uri": "https://localhost:8080/"
    },
    "executionInfo": {
     "elapsed": 1813,
     "status": "ok",
     "timestamp": 1683277064196,
     "user": {
      "displayName": "Дмитрий Волчек",
      "userId": "12396512946067001179"
     },
     "user_tz": -180
    },
    "id": "dCNn7ks97hsP",
    "outputId": "ba12fb31-e161-460f-e7fd-75f74b0e01f1",
    "pycharm": {
     "name": "#%%\n"
    }
   },
   "outputs": [
    {
     "data": {
      "text/plain": [
       "(1797, 64)"
      ]
     },
     "execution_count": 1,
     "metadata": {},
     "output_type": "execute_result"
    }
   ],
   "source": [
    "from sklearn.datasets import load_digits\n",
    "import matplotlib.pyplot as plt\n",
    "\n",
    "digits = load_digits()\n",
    "digits.data.shape"
   ]
  },
  {
   "cell_type": "code",
   "execution_count": 5,
   "metadata": {
    "colab": {
     "base_uri": "https://localhost:8080/",
     "height": 653
    },
    "executionInfo": {
     "elapsed": 23565,
     "status": "ok",
     "timestamp": 1683277089752,
     "user": {
      "displayName": "Дмитрий Волчек",
      "userId": "12396512946067001179"
     },
     "user_tz": -180
    },
    "id": "ygsNMoYZ7hsQ",
    "outputId": "385b743e-292c-4378-9658-6458d3776718",
    "pycharm": {
     "name": "#%%\n"
    }
   },
   "outputs": [
    {
     "data": {
      "image/png": "[encoded data removed]",
      "text/plain": [
       "<Figure size 800x800 with 100 Axes>"
      ]
     },
     "metadata": {},
     "output_type": "display_data"
    }
   ],
   "source": [
    "fig, ax = plt.subplots(10, 10, figsize=(8, 8), subplot_kw=dict(xticks=[], yticks=[]))\n",
    "fig.subplots_adjust(hspace=0.05, wspace=0.05)\n",
    "for i, axi in enumerate(ax.flat):\n",
    "    im = axi.imshow(digits.data[i].reshape(8,8), cmap='binary')\n",
    "    im.set_clim(0, 16)"
   ]
  },
  {
   "cell_type": "markdown",
   "metadata": {
    "id": "wXcooMSH7hsQ",
    "pycharm": {
     "name": "#%% md\n"
    }
   },
   "source": [
    "To make the training faster, it makes sense to reduce the dimensionality of the feature space. Perform the transformations for the entire dataset using <code>PCA(n_components=0.99, svd_solver=='full')</code>."
   ]
  },
  {
   "cell_type": "code",
   "execution_count": 18,
   "metadata": {
    "id": "p76FXvva7hsQ",
    "pycharm": {
     "name": "#%%\n"
    }
   },
   "outputs": [],
   "source": [
    "from sklearn.decomposition import PCA\n",
    "pca = PCA(n_components=0.99, svd_solver='full')\n",
    "data = digits.data\n",
    "model_pca = pca.fit(data)\n",
    "data_pca = pca.fit_transform(data)"
   ]
  },
  {
   "cell_type": "markdown",
   "metadata": {
    "id": "Ma5b_5mlpjCM"
   },
   "source": [
    "Enter the number of principal components obtained."
   ]
  },
  {
   "cell_type": "code",
   "execution_count": 24,
   "metadata": {
    "id": "AyUeawEt7hsQ",
    "pycharm": {
     "name": "#%%\n"
    }
   },
   "outputs": [
    {
     "name": "stdout",
     "output_type": "stream",
     "text": [
      "41 41\n"
     ]
    }
   ],
   "source": [
    "components = model_pca.components_\n",
    "num_components_from_components = components.shape[0]\n",
    "num_components_from_components\n",
    "num_components = pca.n_components_\n",
    "print(num_components, num_components_from_components)"
   ]
  },
  {
   "cell_type": "markdown",
   "metadata": {
    "id": "gwArf-clzg2m"
   },
   "source": [
    "We train the model of interest by selecting the hyperparameter responsible for the number of components used, minimizing the <a href=\"https://en.wikipedia.org/wiki/Akaike_information_criterion\">Akaike information criterion</a>.\n",
    "\n",
    "For <code>n_components</code> values in the range \\([50,250)\\) in increments of \\(10\\) train models <a href=\"https://scikit-learn.org/stable/modules/generated/sklearn.mixture.GaussianMixture.html\"><code>GaussianMixture</code></a> with the parameters specified in your assignment. Use the method <code>.aic()</code> to calculate the criterion value of each model.\n",
    "\n",
    "Enter the <code>n_components</code> value of the model with the lowest value of the Akaike criterion."
   ]
  },
  {
   "cell_type": "code",
   "execution_count": 34,
   "metadata": {
    "id": "kh26_izK7hsQ",
    "pycharm": {
     "name": "#%%\n"
    }
   },
   "outputs": [
    {
     "name": "stdout",
     "output_type": "stream",
     "text": [
      "n_components = 50, AIC = 178565.9717748201\n",
      "n_components = 60, AIC = 104900.61168184083\n",
      "n_components = 70, AIC = 42093.62648832463\n",
      "n_components = 80, AIC = -15476.52470473107\n",
      "n_components = 90, AIC = -54472.488534200995\n",
      "n_components = 100, AIC = -85574.11305190576\n",
      "n_components = 110, AIC = -110681.89968673699\n",
      "n_components = 120, AIC = -124731.22826693428\n",
      "n_components = 130, AIC = -150061.54722945055\n",
      "n_components = 140, AIC = -162783.3527324209\n",
      "n_components = 150, AIC = -182283.74215671688\n",
      "n_components = 160, AIC = -186662.67079530604\n",
      "n_components = 170, AIC = -188412.37786688685\n",
      "n_components = 180, AIC = -184406.83426297735\n",
      "n_components = 190, AIC = -185214.42228659068\n",
      "n_components = 200, AIC = -181589.26104222145\n",
      "n_components = 210, AIC = -175374.29472464696\n",
      "n_components = 220, AIC = -175242.70587984403\n",
      "n_components = 230, AIC = -166729.16827891348\n",
      "n_components = 240, AIC = -157600.66779676639\n",
      "\n",
      "n_components value with the lowest AIC: 170\n"
     ]
    }
   ],
   "source": [
    "from sklearn.mixture import GaussianMixture\n",
    "\n",
    "n_components_range = range(50, 250, 10)\n",
    "\n",
    "# Store the AIC values\n",
    "aic_scores = {}\n",
    "\n",
    "# Loop through the number of components to train a model for each\n",
    "for n_components in n_components_range:\n",
    "    # Train Gaussian Mixture Model\n",
    "    gmm = GaussianMixture(n_components=n_components, covariance_type='full', random_state=9)\n",
    "    gmm.fit(data_pca)\n",
    "\n",
    "    # Calculate AIC\n",
    "    aic = gmm.aic(data_pca)\n",
    "    aic_scores[n_components] = aic\n",
    "    print(f\"n_components = {n_components}, AIC = {aic}\")\n",
    "\n",
    "# Find the n_components value with the lowest AIC\n",
    "best_n_components = min(aic_scores, key=aic_scores.get)\n",
    "\n",
    "print(f\"\\nn_components value with the lowest AIC: {best_n_components}\")"
   ]
  },
  {
   "cell_type": "code",
   "execution_count": 35,
   "metadata": {},
   "outputs": [
    {
     "name": "stdout",
     "output_type": "stream",
     "text": [
      "n_components = 50, AIC = -145353.5324884141\n",
      "n_components = 60, AIC = -213952.00946918945\n",
      "n_components = 70, AIC = -262924.49713408574\n",
      "n_components = 80, AIC = -301207.52250416984\n",
      "n_components = 90, AIC = -313536.2885111547\n",
      "n_components = 100, AIC = -334298.19517448545\n",
      "n_components = 110, AIC = -333563.0949282204\n",
      "n_components = 120, AIC = -337148.33756213915\n",
      "n_components = 130, AIC = -323876.2487345217\n",
      "n_components = 140, AIC = -305372.4095371271\n",
      "n_components = 150, AIC = -303868.31819839496\n",
      "n_components = 160, AIC = -279760.5011299476\n",
      "n_components = 170, AIC = -261143.18401916185\n",
      "n_components = 180, AIC = -237610.7286748808\n",
      "n_components = 190, AIC = -206927.0130821598\n",
      "n_components = 200, AIC = -184150.4779816185\n",
      "n_components = 210, AIC = -152396.30834306264\n",
      "n_components = 220, AIC = -124984.85980310268\n",
      "n_components = 230, AIC = -97497.97068965435\n",
      "n_components = 240, AIC = -62060.28303706972\n",
      "\n",
      "n_components value with the lowest AIC: 120\n"
     ]
    }
   ],
   "source": [
    "n_components_range = range(50, 250, 10)\n",
    "\n",
    "# Store the AIC values\n",
    "aic_scores = {}\n",
    "\n",
    "# Loop through the number of components to train a model for each\n",
    "for n_components in n_components_range:\n",
    "    # Train Gaussian Mixture Model\n",
    "    gmm = GaussianMixture(n_components=n_components, covariance_type='full', random_state=9)\n",
    "    gmm.fit(data)\n",
    "\n",
    "    # Calculate AIC\n",
    "    aic = gmm.aic(data)\n",
    "    aic_scores[n_components] = aic\n",
    "    print(f\"n_components = {n_components}, AIC = {aic}\")\n",
    "\n",
    "# Find the n_components value with the lowest AIC\n",
    "best_n_components = min(aic_scores, key=aic_scores.get)\n",
    "\n",
    "print(f\"\\nn_components value with the lowest AIC: {best_n_components}\")"
   ]
  },
  {
   "cell_type": "markdown",
   "metadata": {
    "id": "LIoODHeP7hsR",
    "pycharm": {
     "name": "#%% md\n"
    }
   },
   "source": [
    "Train the final model on the selected hyperparameter. Check that the training has converged (the field <code>.converged_</code> of the model)."
   ]
  },
  {
   "cell_type": "code",
   "execution_count": 88,
   "metadata": {
    "id": "c7oq5tkZ7hsR",
    "pycharm": {
     "name": "#%%\n"
    }
   },
   "outputs": [
    {
     "data": {
      "text/plain": [
       "True"
      ]
     },
     "execution_count": 88,
     "metadata": {},
     "output_type": "execute_result"
    }
   ],
   "source": [
    "gmm = GaussianMixture(n_components=170, covariance_type='full', random_state=9)\n",
    "gmm.fit(data_pca)\n",
    "gmm.converged_"
   ]
  },
  {
   "cell_type": "code",
   "execution_count": 41,
   "metadata": {},
   "outputs": [
    {
     "data": {
      "text/plain": [
       "True"
      ]
     },
     "execution_count": 41,
     "metadata": {},
     "output_type": "execute_result"
    }
   ],
   "source": [
    "gmm = GaussianMixture(n_components=120, covariance_type='full', random_state=9)\n",
    "gmm.fit(data_pca)\n",
    "gmm.converged_"
   ]
  },
  {
   "cell_type": "markdown",
   "metadata": {
    "id": "p1vjovgA7hsR",
    "pycharm": {
     "name": "#%% md\n"
    }
   },
   "source": [
    "Use the method <code>.sample()</code> to generate $100$ new objects.\n",
    "\n",
    "Enter the sample mean of the cooridnates with index $0$ of the generated objects."
   ]
  },
  {
   "cell_type": "code",
   "execution_count": 89,
   "metadata": {
    "id": "VHMKmOSq7hsS",
    "pycharm": {
     "name": "#%%\n"
    }
   },
   "outputs": [
    {
     "name": "stdout",
     "output_type": "stream",
     "text": [
      "Sample mean of the coordinates with index 0: 0.9808156824203416\n"
     ]
    },
    {
     "data": {
      "text/plain": [
       "(100, 41)"
      ]
     },
     "execution_count": 89,
     "metadata": {},
     "output_type": "execute_result"
    }
   ],
   "source": [
    "import numpy as np\n",
    "# Generate 100 new samples\n",
    "samples, _ = gmm.sample(100)\n",
    "\n",
    "# Calculate the mean of the coordinates with index 0\n",
    "sample_mean_index_0 = np.mean(samples[0, :])\n",
    "\n",
    "print(f\"Sample mean of the coordinates with index 0: {sample_mean_index_0}\")\n",
    "samples.shape"
   ]
  },
  {
   "cell_type": "markdown",
   "metadata": {
    "id": "l_PI0NTc7hsS",
    "pycharm": {
     "name": "#%% md\n"
    }
   },
   "source": [
    "Using the <code>.inverse_transform()</code> method of the class <code>PCA</code>, return the generated objects to the original feature space."
   ]
  },
  {
   "cell_type": "code",
   "execution_count": 66,
   "metadata": {
    "id": "_KLbxq297hsS",
    "pycharm": {
     "name": "#%%\n"
    }
   },
   "outputs": [],
   "source": [
    "generated_data = pca.inverse_transform(samples)"
   ]
  },
  {
   "cell_type": "markdown",
   "metadata": {
    "id": "cgRK_l2G8I6p"
   },
   "source": [
    "Visualize the results. Enter the image number corresponding to the generated object with the index specified in your assignment (indexing starts from zero)."
   ]
  },
  {
   "cell_type": "code",
   "execution_count": 90,
   "metadata": {
    "id": "xj__POKA8zpH"
   },
   "outputs": [
    {
     "data": {
      "text/plain": [
       "<matplotlib.image.AxesImage at 0x13bc2cb76b0>"
      ]
     },
     "execution_count": 90,
     "metadata": {},
     "output_type": "execute_result"
    },
    {
     "data": {
      "image/png": "[encoded data removed]",
      "text/plain": [
       "<Figure size 640x480 with 1 Axes>"
      ]
     },
     "metadata": {},
     "output_type": "display_data"
    }
   ],
   "source": [
    "plt.imshow(generated_data[5].reshape(8, 8), cmap='gray')"
   ]
  }
 ],
 "metadata": {
  "colab": {
   "provenance": []
  },
  "kernelspec": {
   "display_name": "Python 3",
   "language": "python",
   "name": "python3"
  },
  "language_info": {
   "codemirror_mode": {
    "name": "ipython",
    "version": 3
   },
   "file_extension": ".py",
   "mimetype": "text/x-python",
   "name": "python",
   "nbconvert_exporter": "python",
   "pygments_lexer": "ipython3",
   "version": "3.12.6"
  }
 },
 "nbformat": 4,
 "nbformat_minor": 1
}
